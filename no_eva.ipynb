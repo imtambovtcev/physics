{
 "cells": [
  {
   "cell_type": "code",
   "execution_count": 1,
   "id": "minimal-breakfast",
   "metadata": {},
   "outputs": [],
   "source": [
    "import numpy as np"
   ]
  },
  {
   "cell_type": "code",
   "execution_count": 2,
   "id": "emotional-furniture",
   "metadata": {},
   "outputs": [],
   "source": [
    "d={'a':[1,1,0,0,0],\n",
    "       'b':[1,0,0,1,1],\n",
    "       'c':[0,1,1,1,0],\n",
    "       'd':[1,0,0,1,0],\n",
    "       'e':[1,0,0,0,0],\n",
    "       'f':[1,0,1,1,0],\n",
    "       'g':[0,1,0,1,1],\n",
    "       'h':[0,0,1,0,1],\n",
    "       'i':[0,1,1,0,0],\n",
    "       'j':[1,1,0,1,0],\n",
    "       'k':[1,1,1,1,0],\n",
    "       'l':[0,1,0,0,1],\n",
    "       'm':[0,0,1,1,1],\n",
    "       'n':[0,0,1,1,0],\n",
    "       'o':[0,0,0,1,1],\n",
    "       'p':[0,1,1,0,1],\n",
    "       'q':[1,1,1,0,1],\n",
    "       'r':[0,1,0,1,0],\n",
    "       's':[1,0,1,0,0],\n",
    "       't':[0,0,0,0,1],\n",
    "       'u':[1,1,1,0,0],\n",
    "       'v':[0,1,1,1,1],\n",
    "       'w':[1,1,0,0,1],\n",
    "       'x':[1,0,1,1,1],\n",
    "       'y':[1,0,1,0,1],\n",
    "       'z':[1,0,0,0,1],\n",
    "      }\n",
    "\n",
    "def alice_bob(alice,bob):\n",
    "    assert alice.shape[0]==bob.shape[0]\n",
    "#     print(np.concatenate([alice, bob],axis=1))\n",
    "    return np.array([ a1 if a0==b0 else int(np.round(np.random.rand(1))) for a0,a1,b0  in np.concatenate([alice, bob],axis=1).tolist()]).reshape(-1,1)\n",
    "def check_basis(alice,bob):\n",
    "    return alice==bob\n",
    "\n",
    "def check_secret_key(alice,bob):\n",
    "    return alice==bob\n",
    "\n",
    "def baudot(word):\n",
    "    return np.array([d[a] for a in word]).reshape(-1)\n",
    "\n",
    "def inverse_baudot(word):\n",
    "    w=word.reshape(-1,5).tolist()\n",
    "    return ''.join([list(d.keys())[list(d.values()).index(l)] for l in w])\n",
    "    \n",
    "        "
   ]
  },
  {
   "cell_type": "code",
   "execution_count": 3,
   "id": "smart-eagle",
   "metadata": {},
   "outputs": [
    {
     "name": "stdout",
     "output_type": "stream",
     "text": [
      "alice = array([[1, 0],\n",
      "       [0, 0],\n",
      "       [0, 1],\n",
      "       [1, 1],\n",
      "       [0, 1],\n",
      "       [1, 0],\n",
      "       [0, 0],\n",
      "       [1, 0],\n",
      "       [0, 1],\n",
      "       [1, 0],\n",
      "       [0, 1],\n",
      "       [0, 1],\n",
      "       [1, 1],\n",
      "       [1, 0],\n",
      "       [1, 1],\n",
      "       [1, 1],\n",
      "       [0, 1],\n",
      "       [1, 1],\n",
      "       [0, 1],\n",
      "       [0, 1],\n",
      "       [1, 0],\n",
      "       [0, 1],\n",
      "       [1, 1],\n",
      "       [0, 0],\n",
      "       [0, 0],\n",
      "       [1, 0],\n",
      "       [1, 1],\n",
      "       [1, 1],\n",
      "       [1, 0],\n",
      "       [0, 1],\n",
      "       [1, 1],\n",
      "       [0, 0],\n",
      "       [1, 0],\n",
      "       [0, 0],\n",
      "       [0, 1],\n",
      "       [1, 0],\n",
      "       [0, 1],\n",
      "       [0, 1],\n",
      "       [0, 0],\n",
      "       [0, 0],\n",
      "       [1, 1],\n",
      "       [0, 1],\n",
      "       [1, 1],\n",
      "       [0, 1],\n",
      "       [0, 1],\n",
      "       [1, 1],\n",
      "       [1, 0],\n",
      "       [0, 1],\n",
      "       [1, 0],\n",
      "       [1, 1]])\n"
     ]
    }
   ],
   "source": [
    "alice=np.random.rand(50,2)\n",
    "alice=np.round(alice)\n",
    "alice=np.array(alice, dtype = int)\n",
    "print(f'{alice = }')"
   ]
  },
  {
   "cell_type": "code",
   "execution_count": 4,
   "id": "sharp-degree",
   "metadata": {},
   "outputs": [
    {
     "name": "stdout",
     "output_type": "stream",
     "text": [
      "bob = array([[0],\n",
      "       [1],\n",
      "       [1],\n",
      "       [1],\n",
      "       [1],\n",
      "       [1],\n",
      "       [0],\n",
      "       [1],\n",
      "       [0],\n",
      "       [1],\n",
      "       [1],\n",
      "       [0],\n",
      "       [1],\n",
      "       [0],\n",
      "       [0],\n",
      "       [0],\n",
      "       [1],\n",
      "       [1],\n",
      "       [1],\n",
      "       [1],\n",
      "       [0],\n",
      "       [0],\n",
      "       [1],\n",
      "       [1],\n",
      "       [0],\n",
      "       [1],\n",
      "       [0],\n",
      "       [1],\n",
      "       [1],\n",
      "       [0],\n",
      "       [0],\n",
      "       [1],\n",
      "       [1],\n",
      "       [1],\n",
      "       [0],\n",
      "       [1],\n",
      "       [0],\n",
      "       [0],\n",
      "       [0],\n",
      "       [1],\n",
      "       [0],\n",
      "       [0],\n",
      "       [0],\n",
      "       [1],\n",
      "       [1],\n",
      "       [0],\n",
      "       [1],\n",
      "       [1],\n",
      "       [1],\n",
      "       [1]])\n"
     ]
    }
   ],
   "source": [
    "bob=np.random.rand(50,1)\n",
    "bob=np.round(bob)\n",
    "bob=np.array(bob, dtype = int)\n",
    "print(f'{bob = }')"
   ]
  },
  {
   "cell_type": "code",
   "execution_count": 5,
   "id": "formal-infection",
   "metadata": {},
   "outputs": [
    {
     "name": "stdout",
     "output_type": "stream",
     "text": [
      "bob_secret_message = array([[0],\n",
      "       [0],\n",
      "       [0],\n",
      "       [1],\n",
      "       [1],\n",
      "       [0],\n",
      "       [0],\n",
      "       [0],\n",
      "       [1],\n",
      "       [0],\n",
      "       [0],\n",
      "       [1],\n",
      "       [1],\n",
      "       [1],\n",
      "       [1],\n",
      "       [1],\n",
      "       [0],\n",
      "       [1],\n",
      "       [1],\n",
      "       [0],\n",
      "       [1],\n",
      "       [1],\n",
      "       [1],\n",
      "       [0],\n",
      "       [0],\n",
      "       [0],\n",
      "       [1],\n",
      "       [1],\n",
      "       [0],\n",
      "       [1],\n",
      "       [1],\n",
      "       [1],\n",
      "       [0],\n",
      "       [0],\n",
      "       [1],\n",
      "       [0],\n",
      "       [1],\n",
      "       [1],\n",
      "       [0],\n",
      "       [1],\n",
      "       [1],\n",
      "       [1],\n",
      "       [0],\n",
      "       [0],\n",
      "       [0],\n",
      "       [1],\n",
      "       [0],\n",
      "       [0],\n",
      "       [0],\n",
      "       [1]])\n"
     ]
    }
   ],
   "source": [
    "bob_secret_message = alice_bob(alice, bob)\n",
    "\n",
    "print(f'{bob_secret_message = }')"
   ]
  },
  {
   "cell_type": "code",
   "execution_count": 6,
   "id": "focal-vancouver",
   "metadata": {},
   "outputs": [
    {
     "name": "stdout",
     "output_type": "stream",
     "text": [
      "bc = array([False, False, False,  True, False,  True,  True,  True,  True,\n",
      "        True, False,  True,  True, False, False, False, False,  True,\n",
      "       False, False, False,  True,  True, False,  True,  True, False,\n",
      "        True,  True,  True, False, False,  True, False,  True,  True,\n",
      "        True,  True,  True, False, False,  True, False, False, False,\n",
      "       False,  True, False,  True,  True])\n",
      "bc.sum() = 26\n",
      "secret_key_alice = array([1, 0, 0, 0, 1, 0, 1, 1, 1, 1, 1, 0, 0, 1, 0, 1, 0, 1, 0, 1])\n",
      "secret_key_bob = array([1, 0, 0, 0, 1, 0, 1, 1, 1, 1, 1, 0, 0, 1, 0, 1, 0, 1, 0, 1])\n",
      "alice[bc,0][:20] = array([1, 1, 0, 1, 0, 1, 0, 1, 1, 0, 1, 0, 1, 1, 1, 0, 1, 0, 1, 0])\n",
      "bob[bc,0][:20] = array([1, 1, 0, 1, 0, 1, 0, 1, 1, 0, 1, 0, 1, 1, 1, 0, 1, 0, 1, 0])\n"
     ]
    }
   ],
   "source": [
    "bc=check_basis(alice[:,0],bob[:,0])\n",
    "\n",
    "print(f'{bc = }')\n",
    "print(f'{bc.sum() = }')\n",
    "\n",
    "assert bc.sum() >= 20\n",
    "\n",
    "secret_key_alice=alice[bc,1][:20]\n",
    "print(f'{secret_key_alice = }')\n",
    "secret_key_bob=bob_secret_message[bc,0][:20]\n",
    "print(f'{secret_key_bob = }')\n",
    "print(f'{alice[bc,0][:20] = }')\n",
    "print(f'{bob[bc,0][:20] = }')"
   ]
  },
  {
   "cell_type": "code",
   "execution_count": 7,
   "id": "cardiovascular-rabbit",
   "metadata": {},
   "outputs": [
    {
     "name": "stdout",
     "output_type": "stream",
     "text": [
      "No Eva\n"
     ]
    }
   ],
   "source": [
    "check=check_secret_key(secret_key_alice[:8],secret_key_bob[:8])\n",
    "print('No Eva' if check.sum()==8 else 'Eva!')"
   ]
  },
  {
   "cell_type": "code",
   "execution_count": 8,
   "id": "proof-slovak",
   "metadata": {},
   "outputs": [
    {
     "name": "stdout",
     "output_type": "stream",
     "text": [
      "b = array([0, 0, 1, 1, 1, 1, 0, 0, 0, 0, 1, 0, 1, 0, 0, 0, 0, 1, 0, 1])\n"
     ]
    }
   ],
   "source": [
    "word = 'mesh'\n",
    "b=baudot(word)\n",
    "print(f'{b = }')"
   ]
  },
  {
   "cell_type": "code",
   "execution_count": 9,
   "id": "seasonal-queue",
   "metadata": {},
   "outputs": [
    {
     "name": "stdout",
     "output_type": "stream",
     "text": [
      "open_message = array([1, 0, 1, 1, 0, 1, 1, 1, 1, 1, 0, 0, 1, 1, 0, 1, 0, 0, 0, 0])\n"
     ]
    }
   ],
   "source": [
    "open_message=np.bitwise_xor(secret_key_alice,b)\n",
    "print(f'{open_message = }')"
   ]
  },
  {
   "cell_type": "code",
   "execution_count": 10,
   "id": "constitutional-precipitation",
   "metadata": {},
   "outputs": [
    {
     "name": "stdout",
     "output_type": "stream",
     "text": [
      "bob_message = array([0, 0, 1, 1, 1, 1, 0, 0, 0, 0, 1, 0, 1, 0, 0, 0, 0, 1, 0, 1])\n"
     ]
    }
   ],
   "source": [
    "bob_message=np.bitwise_xor(secret_key_bob,open_message)\n",
    "print(f'{bob_message = }')"
   ]
  },
  {
   "cell_type": "code",
   "execution_count": 11,
   "id": "comparative-professor",
   "metadata": {},
   "outputs": [
    {
     "data": {
      "text/plain": [
       "'mesh'"
      ]
     },
     "execution_count": 11,
     "metadata": {},
     "output_type": "execute_result"
    }
   ],
   "source": [
    "inverse_baudot(bob_message)"
   ]
  },
  {
   "cell_type": "code",
   "execution_count": null,
   "id": "outstanding-synthesis",
   "metadata": {},
   "outputs": [],
   "source": []
  }
 ],
 "metadata": {
  "kernelspec": {
   "display_name": "Python 3",
   "language": "python",
   "name": "python3"
  },
  "language_info": {
   "codemirror_mode": {
    "name": "ipython",
    "version": 3
   },
   "file_extension": ".py",
   "mimetype": "text/x-python",
   "name": "python",
   "nbconvert_exporter": "python",
   "pygments_lexer": "ipython3",
   "version": "3.8.10"
  }
 },
 "nbformat": 4,
 "nbformat_minor": 5
}
