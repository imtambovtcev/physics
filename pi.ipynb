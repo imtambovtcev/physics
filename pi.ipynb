{
 "cells": [
  {
   "cell_type": "code",
   "execution_count": 1,
   "id": "reflected-eating",
   "metadata": {},
   "outputs": [],
   "source": [
    "import numpy as np\n",
    "import matplotlib.pyplot as plt"
   ]
  },
  {
   "cell_type": "code",
   "execution_count": 107,
   "id": "three-whole",
   "metadata": {},
   "outputs": [
    {
     "name": "stdout",
     "output_type": "stream",
     "text": [
      "3.14146628\n"
     ]
    }
   ],
   "source": [
    "x=np.linspace(0,1,100)\n",
    "y=np.sqrt(1-x*x)\n",
    "N=100000000\n",
    "dots=np.random.rand(N,2)\n",
    "true_dots=dots[np.sqrt(1-dots[:,0]*dots[:,0])>=dots[:,1],:]\n",
    "\n",
    "# fig, ax = plt.subplots() \n",
    "# plt.plot(x,y)\n",
    "# plt.plot(dots[:,0],dots[:,1],'.')\n",
    "# plt.plot(true_dots[:,0],true_dots[:,1],'x')\n",
    "# ax.set_aspect('equal')\n",
    "plt.show()\n",
    "\n",
    "print(4*len(true_dots)/N)"
   ]
  },
  {
   "cell_type": "code",
   "execution_count": null,
   "id": "complex-publicity",
   "metadata": {},
   "outputs": [],
   "source": []
  },
  {
   "cell_type": "code",
   "execution_count": null,
   "id": "solar-repository",
   "metadata": {},
   "outputs": [],
   "source": []
  }
 ],
 "metadata": {
  "kernelspec": {
   "display_name": "Python 3",
   "language": "python",
   "name": "python3"
  },
  "language_info": {
   "codemirror_mode": {
    "name": "ipython",
    "version": 3
   },
   "file_extension": ".py",
   "mimetype": "text/x-python",
   "name": "python",
   "nbconvert_exporter": "python",
   "pygments_lexer": "ipython3",
   "version": "3.8.10"
  }
 },
 "nbformat": 4,
 "nbformat_minor": 5
}
